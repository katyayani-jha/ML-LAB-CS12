{
  "nbformat": 4,
  "nbformat_minor": 0,
  "metadata": {
    "colab": {
      "provenance": [],
      "authorship_tag": "ABX9TyM1bSy2QO84dxeQpdhW0yAX",
      "include_colab_link": true
    },
    "kernelspec": {
      "name": "python3",
      "display_name": "Python 3"
    },
    "language_info": {
      "name": "python"
    }
  },
  "cells": [
    {
      "cell_type": "markdown",
      "metadata": {
        "id": "view-in-github",
        "colab_type": "text"
      },
      "source": [
        "<a href=\"https://colab.research.google.com/github/katyayani-jha/ML-LAB-CS12/blob/main/ML_Lab_II.ipynb\" target=\"_parent\"><img src=\"https://colab.research.google.com/assets/colab-badge.svg\" alt=\"Open In Colab\"/></a>"
      ]
    },
    {
      "cell_type": "markdown",
      "source": [
        "Katyayani Jha | 3P12 | 102216040"
      ],
      "metadata": {
        "id": "7lj_d1ylO6Io"
      }
    },
    {
      "cell_type": "code",
      "execution_count": 1,
      "metadata": {
        "colab": {
          "base_uri": "https://localhost:8080/",
          "height": 74
        },
        "id": "Bcsj7O3p49XR",
        "outputId": "f2766404-80a6-4761-f62f-985f9a95bce9"
      },
      "outputs": [
        {
          "output_type": "display_data",
          "data": {
            "text/plain": [
              "<IPython.core.display.HTML object>"
            ],
            "text/html": [
              "\n",
              "     <input type=\"file\" id=\"files-b7ed8cae-4d38-478d-b762-29bbbd592e8a\" name=\"files[]\" multiple disabled\n",
              "        style=\"border:none\" />\n",
              "     <output id=\"result-b7ed8cae-4d38-478d-b762-29bbbd592e8a\">\n",
              "      Upload widget is only available when the cell has been executed in the\n",
              "      current browser session. Please rerun this cell to enable.\n",
              "      </output>\n",
              "      <script>// Copyright 2017 Google LLC\n",
              "//\n",
              "// Licensed under the Apache License, Version 2.0 (the \"License\");\n",
              "// you may not use this file except in compliance with the License.\n",
              "// You may obtain a copy of the License at\n",
              "//\n",
              "//      http://www.apache.org/licenses/LICENSE-2.0\n",
              "//\n",
              "// Unless required by applicable law or agreed to in writing, software\n",
              "// distributed under the License is distributed on an \"AS IS\" BASIS,\n",
              "// WITHOUT WARRANTIES OR CONDITIONS OF ANY KIND, either express or implied.\n",
              "// See the License for the specific language governing permissions and\n",
              "// limitations under the License.\n",
              "\n",
              "/**\n",
              " * @fileoverview Helpers for google.colab Python module.\n",
              " */\n",
              "(function(scope) {\n",
              "function span(text, styleAttributes = {}) {\n",
              "  const element = document.createElement('span');\n",
              "  element.textContent = text;\n",
              "  for (const key of Object.keys(styleAttributes)) {\n",
              "    element.style[key] = styleAttributes[key];\n",
              "  }\n",
              "  return element;\n",
              "}\n",
              "\n",
              "// Max number of bytes which will be uploaded at a time.\n",
              "const MAX_PAYLOAD_SIZE = 100 * 1024;\n",
              "\n",
              "function _uploadFiles(inputId, outputId) {\n",
              "  const steps = uploadFilesStep(inputId, outputId);\n",
              "  const outputElement = document.getElementById(outputId);\n",
              "  // Cache steps on the outputElement to make it available for the next call\n",
              "  // to uploadFilesContinue from Python.\n",
              "  outputElement.steps = steps;\n",
              "\n",
              "  return _uploadFilesContinue(outputId);\n",
              "}\n",
              "\n",
              "// This is roughly an async generator (not supported in the browser yet),\n",
              "// where there are multiple asynchronous steps and the Python side is going\n",
              "// to poll for completion of each step.\n",
              "// This uses a Promise to block the python side on completion of each step,\n",
              "// then passes the result of the previous step as the input to the next step.\n",
              "function _uploadFilesContinue(outputId) {\n",
              "  const outputElement = document.getElementById(outputId);\n",
              "  const steps = outputElement.steps;\n",
              "\n",
              "  const next = steps.next(outputElement.lastPromiseValue);\n",
              "  return Promise.resolve(next.value.promise).then((value) => {\n",
              "    // Cache the last promise value to make it available to the next\n",
              "    // step of the generator.\n",
              "    outputElement.lastPromiseValue = value;\n",
              "    return next.value.response;\n",
              "  });\n",
              "}\n",
              "\n",
              "/**\n",
              " * Generator function which is called between each async step of the upload\n",
              " * process.\n",
              " * @param {string} inputId Element ID of the input file picker element.\n",
              " * @param {string} outputId Element ID of the output display.\n",
              " * @return {!Iterable<!Object>} Iterable of next steps.\n",
              " */\n",
              "function* uploadFilesStep(inputId, outputId) {\n",
              "  const inputElement = document.getElementById(inputId);\n",
              "  inputElement.disabled = false;\n",
              "\n",
              "  const outputElement = document.getElementById(outputId);\n",
              "  outputElement.innerHTML = '';\n",
              "\n",
              "  const pickedPromise = new Promise((resolve) => {\n",
              "    inputElement.addEventListener('change', (e) => {\n",
              "      resolve(e.target.files);\n",
              "    });\n",
              "  });\n",
              "\n",
              "  const cancel = document.createElement('button');\n",
              "  inputElement.parentElement.appendChild(cancel);\n",
              "  cancel.textContent = 'Cancel upload';\n",
              "  const cancelPromise = new Promise((resolve) => {\n",
              "    cancel.onclick = () => {\n",
              "      resolve(null);\n",
              "    };\n",
              "  });\n",
              "\n",
              "  // Wait for the user to pick the files.\n",
              "  const files = yield {\n",
              "    promise: Promise.race([pickedPromise, cancelPromise]),\n",
              "    response: {\n",
              "      action: 'starting',\n",
              "    }\n",
              "  };\n",
              "\n",
              "  cancel.remove();\n",
              "\n",
              "  // Disable the input element since further picks are not allowed.\n",
              "  inputElement.disabled = true;\n",
              "\n",
              "  if (!files) {\n",
              "    return {\n",
              "      response: {\n",
              "        action: 'complete',\n",
              "      }\n",
              "    };\n",
              "  }\n",
              "\n",
              "  for (const file of files) {\n",
              "    const li = document.createElement('li');\n",
              "    li.append(span(file.name, {fontWeight: 'bold'}));\n",
              "    li.append(span(\n",
              "        `(${file.type || 'n/a'}) - ${file.size} bytes, ` +\n",
              "        `last modified: ${\n",
              "            file.lastModifiedDate ? file.lastModifiedDate.toLocaleDateString() :\n",
              "                                    'n/a'} - `));\n",
              "    const percent = span('0% done');\n",
              "    li.appendChild(percent);\n",
              "\n",
              "    outputElement.appendChild(li);\n",
              "\n",
              "    const fileDataPromise = new Promise((resolve) => {\n",
              "      const reader = new FileReader();\n",
              "      reader.onload = (e) => {\n",
              "        resolve(e.target.result);\n",
              "      };\n",
              "      reader.readAsArrayBuffer(file);\n",
              "    });\n",
              "    // Wait for the data to be ready.\n",
              "    let fileData = yield {\n",
              "      promise: fileDataPromise,\n",
              "      response: {\n",
              "        action: 'continue',\n",
              "      }\n",
              "    };\n",
              "\n",
              "    // Use a chunked sending to avoid message size limits. See b/62115660.\n",
              "    let position = 0;\n",
              "    do {\n",
              "      const length = Math.min(fileData.byteLength - position, MAX_PAYLOAD_SIZE);\n",
              "      const chunk = new Uint8Array(fileData, position, length);\n",
              "      position += length;\n",
              "\n",
              "      const base64 = btoa(String.fromCharCode.apply(null, chunk));\n",
              "      yield {\n",
              "        response: {\n",
              "          action: 'append',\n",
              "          file: file.name,\n",
              "          data: base64,\n",
              "        },\n",
              "      };\n",
              "\n",
              "      let percentDone = fileData.byteLength === 0 ?\n",
              "          100 :\n",
              "          Math.round((position / fileData.byteLength) * 100);\n",
              "      percent.textContent = `${percentDone}% done`;\n",
              "\n",
              "    } while (position < fileData.byteLength);\n",
              "  }\n",
              "\n",
              "  // All done.\n",
              "  yield {\n",
              "    response: {\n",
              "      action: 'complete',\n",
              "    }\n",
              "  };\n",
              "}\n",
              "\n",
              "scope.google = scope.google || {};\n",
              "scope.google.colab = scope.google.colab || {};\n",
              "scope.google.colab._files = {\n",
              "  _uploadFiles,\n",
              "  _uploadFilesContinue,\n",
              "};\n",
              "})(self);\n",
              "</script> "
            ]
          },
          "metadata": {}
        },
        {
          "output_type": "stream",
          "name": "stdout",
          "text": [
            "Saving AWCustomers.csv to AWCustomers.csv\n"
          ]
        }
      ],
      "source": [
        "import pandas as pd\n",
        "from google.colab import files\n",
        "\n",
        "uploaded = files.upload()\n",
        "\n",
        "df = pd.read_csv('AWCustomers.csv')"
      ]
    },
    {
      "cell_type": "markdown",
      "source": [
        "Part I: Based on Feature Selection, Cleaning, and Preprocessing to Construct an Input from Data\n",
        "Source"
      ],
      "metadata": {
        "id": "b7P00bef_Iay"
      }
    },
    {
      "cell_type": "markdown",
      "source": [
        "(a) Examine the values of each attribute"
      ],
      "metadata": {
        "id": "Pc4LE-2K8BRo"
      }
    },
    {
      "cell_type": "code",
      "source": [
        "print(\"DataFrame columns and types:\")\n",
        "print(df.dtypes)\n",
        "\n",
        "print(\"\\nSample of the DataFrame:\")\n",
        "print(df.head())"
      ],
      "metadata": {
        "colab": {
          "base_uri": "https://localhost:8080/"
        },
        "id": "GrW5rlUG7C1U",
        "outputId": "f1d497ff-51f7-48c7-a036-a2120685f32e"
      },
      "execution_count": 2,
      "outputs": [
        {
          "output_type": "stream",
          "name": "stdout",
          "text": [
            "DataFrame columns and types:\n",
            "CustomerID               int64\n",
            "Title                   object\n",
            "FirstName               object\n",
            "MiddleName              object\n",
            "LastName                object\n",
            "Suffix                  object\n",
            "AddressLine1            object\n",
            "AddressLine2            object\n",
            "City                    object\n",
            "StateProvinceName       object\n",
            "CountryRegionName       object\n",
            "PostalCode              object\n",
            "PhoneNumber             object\n",
            "BirthDate               object\n",
            "Education               object\n",
            "Occupation              object\n",
            "Gender                  object\n",
            "MaritalStatus           object\n",
            "HomeOwnerFlag            int64\n",
            "NumberCarsOwned          int64\n",
            "NumberChildrenAtHome     int64\n",
            "TotalChildren            int64\n",
            "YearlyIncome             int64\n",
            "LastUpdated             object\n",
            "dtype: object\n",
            "\n",
            "Sample of the DataFrame:\n",
            "   CustomerID Title FirstName MiddleName  LastName Suffix  \\\n",
            "0       21173   NaN      Chad          C      Yuan    NaN   \n",
            "1       13249   NaN      Ryan        NaN     Perry    NaN   \n",
            "2       29350   NaN     Julia        NaN  Thompson    NaN   \n",
            "3       13503   NaN  Theodore        NaN     Gomez    NaN   \n",
            "4       22803   NaN  Marshall          J      Shan    NaN   \n",
            "\n",
            "             AddressLine1 AddressLine2         City    StateProvinceName  ...  \\\n",
            "0      7090 C. Mount Hood          NaN   Wollongong      New South Wales  ...   \n",
            "1     3651 Willow Lake Rd          NaN      Shawnee     British Columbia  ...   \n",
            "2  1774 Tice Valley Blvd.          NaN  West Covina           California  ...   \n",
            "3         2103 Baldwin Dr          NaN    Liverpool              England  ...   \n",
            "4         Am Gallberg 234          NaN        Werne  Nordrhein-Westfalen  ...   \n",
            "\n",
            "         Education      Occupation Gender MaritalStatus HomeOwnerFlag  \\\n",
            "0        Bachelors        Clerical      M             M             1   \n",
            "1  Partial College        Clerical      M             M             1   \n",
            "2        Bachelors        Clerical      F             S             0   \n",
            "3  Partial College  Skilled Manual      M             M             1   \n",
            "4  Partial College  Skilled Manual      M             S             1   \n",
            "\n",
            "  NumberCarsOwned NumberChildrenAtHome TotalChildren  YearlyIncome  \\\n",
            "0               3                    0             1         81916   \n",
            "1               2                    1             2         81076   \n",
            "2               3                    0             0         86387   \n",
            "3               2                    1             2         61481   \n",
            "4               1                    0             0         51804   \n",
            "\n",
            "   LastUpdated  \n",
            "0   2017-03-06  \n",
            "1   2017-03-06  \n",
            "2   2017-03-06  \n",
            "3   2017-03-06  \n",
            "4   2017-03-06  \n",
            "\n",
            "[5 rows x 24 columns]\n"
          ]
        }
      ]
    },
    {
      "cell_type": "markdown",
      "source": [
        "(b) Selected attributes"
      ],
      "metadata": {
        "id": "1v8Z_7v-8T7e"
      }
    },
    {
      "cell_type": "code",
      "source": [
        "selected_attributes = ['CustomerID', 'NumberCarsOwned', 'YearlyIncome']\n",
        "df_selected = df[selected_attributes]\n",
        "\n",
        "print(\"\\nNew DataFrame with selected attributes:\")\n",
        "print(df_selected.head())"
      ],
      "metadata": {
        "colab": {
          "base_uri": "https://localhost:8080/"
        },
        "id": "zmuKHFTL8h2D",
        "outputId": "477431c7-1139-43c2-f2df-28b61582d079"
      },
      "execution_count": 3,
      "outputs": [
        {
          "output_type": "stream",
          "name": "stdout",
          "text": [
            "\n",
            "New DataFrame with selected attributes:\n",
            "   CustomerID  NumberCarsOwned  YearlyIncome\n",
            "0       21173                3         81916\n",
            "1       13249                2         81076\n",
            "2       29350                3         86387\n",
            "3       13503                2         61481\n",
            "4       22803                1         51804\n"
          ]
        }
      ]
    },
    {
      "cell_type": "markdown",
      "source": [
        "(c) Determining the data value of each attribute"
      ],
      "metadata": {
        "id": "DuMwnw8a9JyQ"
      }
    },
    {
      "cell_type": "code",
      "source": [
        "data_types = {\n",
        "    'CustomerID': 'Discrete, Nominal',  # Typically a unique identifier, not useful for prediction\n",
        "    'NumberCarsOwned': 'Discrete, Ratio',  # Count of cars, non-negative integers, meaningful zero\n",
        "    'YearlyIncome': 'Continuous, Ratio'   # Monetary value, can be fractional, meaningful zero\n",
        "}\n",
        "\n",
        "print(\"Data types and preprocessing requirements:\")\n",
        "for attribute, dtype in data_types.items():\n",
        "    print(f\"{attribute}: {dtype}\")"
      ],
      "metadata": {
        "colab": {
          "base_uri": "https://localhost:8080/"
        },
        "id": "G4WV9YWc9JFn",
        "outputId": "f34b8972-18e4-4310-9f45-d86a1f4c0640"
      },
      "execution_count": 5,
      "outputs": [
        {
          "output_type": "stream",
          "name": "stdout",
          "text": [
            "Data types and preprocessing requirements:\n",
            "CustomerID: Discrete, Nominal\n",
            "NumberCarsOwned: Discrete, Ratio\n",
            "YearlyIncome: Continuous, Ratio\n"
          ]
        }
      ]
    },
    {
      "cell_type": "markdown",
      "source": [
        "Part II: Data Preprocessing and Transformation"
      ],
      "metadata": {
        "id": "b-uFNjyU_Fo6"
      }
    },
    {
      "cell_type": "code",
      "source": [
        "import pandas as pd\n",
        "from sklearn.preprocessing import StandardScaler, MinMaxScaler, OneHotEncoder\n",
        "from sklearn.preprocessing import KBinsDiscretizer\n",
        "from sklearn.compose import ColumnTransformer\n",
        "from sklearn.pipeline import Pipeline\n",
        "from sklearn.impute import SimpleImputer\n",
        "from sklearn.preprocessing import Binarizer"
      ],
      "metadata": {
        "id": "U0aHJ603-XhS"
      },
      "execution_count": 6,
      "outputs": []
    },
    {
      "cell_type": "markdown",
      "source": [
        "(a) Handling NULL values"
      ],
      "metadata": {
        "id": "SYtrpzTT_L_e"
      }
    },
    {
      "cell_type": "code",
      "source": [
        "imputer = SimpleImputer(strategy='mean')\n",
        "df_selected = pd.DataFrame(imputer.fit_transform(df_selected), columns=selected_attributes)"
      ],
      "metadata": {
        "id": "wRDV2Ccv_Ez-"
      },
      "execution_count": 7,
      "outputs": []
    },
    {
      "cell_type": "markdown",
      "source": [
        "(b) Normalization"
      ],
      "metadata": {
        "id": "oF3Y-36M_n8B"
      }
    },
    {
      "cell_type": "code",
      "source": [
        "scaler = MinMaxScaler()\n",
        "df_selected['YearlyIncome'] = scaler.fit_transform(df_selected[['YearlyIncome']])"
      ],
      "metadata": {
        "id": "f-oyp0K1_Wcr"
      },
      "execution_count": 8,
      "outputs": []
    },
    {
      "cell_type": "markdown",
      "source": [
        "(c) Discretization (binning)"
      ],
      "metadata": {
        "id": "zmY_wZO9_rYE"
      }
    },
    {
      "cell_type": "code",
      "source": [
        "binner = KBinsDiscretizer(n_bins=5, encode='ordinal', strategy='uniform')\n",
        "df_selected['YearlyIncome_binned'] = binner.fit_transform(df_selected[['YearlyIncome']])"
      ],
      "metadata": {
        "colab": {
          "base_uri": "https://localhost:8080/"
        },
        "id": "I4gtAULf_Y-0",
        "outputId": "165d56bd-5498-4007-cda3-394107252261"
      },
      "execution_count": 9,
      "outputs": [
        {
          "output_type": "stream",
          "name": "stderr",
          "text": [
            "/usr/local/lib/python3.10/dist-packages/sklearn/preprocessing/_discretization.py:248: FutureWarning: In version 1.5 onwards, subsample=200_000 will be used by default. Set subsample explicitly to silence this warning in the mean time. Set subsample=None to disable subsampling explicitly.\n",
            "  warnings.warn(\n"
          ]
        }
      ]
    },
    {
      "cell_type": "markdown",
      "source": [
        "(d) Standardization / Normalization"
      ],
      "metadata": {
        "id": "3xy16wm-_ukG"
      }
    },
    {
      "cell_type": "code",
      "source": [
        "standard_scaler = StandardScaler()\n",
        "df_selected['YearlyIncome_standardized'] = standard_scaler.fit_transform(df_selected[['YearlyIncome']])"
      ],
      "metadata": {
        "id": "oKnjYBVw_bT9"
      },
      "execution_count": 10,
      "outputs": []
    },
    {
      "cell_type": "markdown",
      "source": [
        "(e) Binarization (One Hot Encoding)"
      ],
      "metadata": {
        "id": "E_qRtRib_xPM"
      }
    },
    {
      "cell_type": "code",
      "source": [
        "encoder = OneHotEncoder(sparse=False)\n",
        "number_cars_encoded = encoder.fit_transform(df_selected[['NumberCarsOwned']])\n",
        "df_encoded = pd.DataFrame(number_cars_encoded, columns=[f'NumberCarsOwned_{int(i)}' for i in encoder.categories_[0]])\n",
        "df_selected = pd.concat([df_selected, df_encoded], axis=1).drop('NumberCarsOwned', axis=1)"
      ],
      "metadata": {
        "colab": {
          "base_uri": "https://localhost:8080/"
        },
        "id": "r1tkyTg3_gRp",
        "outputId": "bd6e4229-cea7-47fe-e1c6-c556ba9e56bb"
      },
      "execution_count": 11,
      "outputs": [
        {
          "output_type": "stream",
          "name": "stderr",
          "text": [
            "/usr/local/lib/python3.10/dist-packages/sklearn/preprocessing/_encoders.py:975: FutureWarning: `sparse` was renamed to `sparse_output` in version 1.2 and will be removed in 1.4. `sparse_output` is ignored unless you leave `sparse` to its default value.\n",
            "  warnings.warn(\n"
          ]
        }
      ]
    },
    {
      "cell_type": "code",
      "source": [
        "print(\"\\nData after preprocessing:\")\n",
        "print(df_selected.head())"
      ],
      "metadata": {
        "colab": {
          "base_uri": "https://localhost:8080/"
        },
        "id": "kBaUm9HQ_iCc",
        "outputId": "498821c5-a0b5-4aaf-9465-959884f1d905"
      },
      "execution_count": 12,
      "outputs": [
        {
          "output_type": "stream",
          "name": "stdout",
          "text": [
            "\n",
            "Data after preprocessing:\n",
            "   CustomerID  YearlyIncome  YearlyIncome_binned  YearlyIncome_standardized  \\\n",
            "0     21173.0      0.496842                  2.0                   0.298555   \n",
            "1     13249.0      0.489453                  2.0                   0.271180   \n",
            "2     29350.0      0.536172                  2.0                   0.444261   \n",
            "3     13503.0      0.317083                  1.0                  -0.367401   \n",
            "4     22803.0      0.231958                  1.0                  -0.682765   \n",
            "\n",
            "   NumberCarsOwned_0  NumberCarsOwned_1  NumberCarsOwned_2  NumberCarsOwned_3  \\\n",
            "0                0.0                0.0                0.0                1.0   \n",
            "1                0.0                0.0                1.0                0.0   \n",
            "2                0.0                0.0                0.0                1.0   \n",
            "3                0.0                0.0                1.0                0.0   \n",
            "4                0.0                1.0                0.0                0.0   \n",
            "\n",
            "   NumberCarsOwned_4  NumberCarsOwned_5  \n",
            "0                0.0                0.0  \n",
            "1                0.0                0.0  \n",
            "2                0.0                0.0  \n",
            "3                0.0                0.0  \n",
            "4                0.0                0.0  \n"
          ]
        }
      ]
    },
    {
      "cell_type": "markdown",
      "source": [
        "Part III: Calculating Proximity / Correlation Analysis of two features"
      ],
      "metadata": {
        "id": "KFz-FAKEAE9M"
      }
    },
    {
      "cell_type": "code",
      "source": [
        "# Selecting two objects (rows) for similarity comparison\n",
        "object1 = df_selected.iloc[0].values.reshape(1, -1)\n",
        "object2 = df_selected.iloc[1].values.reshape(1, -1)"
      ],
      "metadata": {
        "id": "2Qio-kglMh3a"
      },
      "execution_count": 13,
      "outputs": []
    },
    {
      "cell_type": "markdown",
      "source": [
        "(a) Calculate Similarity in Simple Matching, Jaccard Similarity, and Cosine Similarity between two\n",
        "following objects of your transformed input data."
      ],
      "metadata": {
        "id": "vgyG4Ui_OhfU"
      }
    },
    {
      "cell_type": "code",
      "source": [
        "import numpy as np\n",
        "from sklearn.metrics.pairwise import cosine_similarity\n",
        "from sklearn.metrics import jaccard_score\n",
        "\n",
        "# Simple Matching Similarity\n",
        "def simple_matching_similarity(obj1, obj2):\n",
        "    return np.mean(obj1 == obj2)\n",
        "\n",
        "# Jaccard Similarity (for binary attributes)\n",
        "def jaccard_similarity(obj1, obj2):\n",
        "    return jaccard_score(obj1, obj2, average='binary')\n",
        "\n",
        "# Cosine Similarity\n",
        "def cosine_similarity_measure(obj1, obj2):\n",
        "    return cosine_similarity(obj1, obj2)[0][0]"
      ],
      "metadata": {
        "id": "H5LIZvyOMjwm"
      },
      "execution_count": 16,
      "outputs": []
    },
    {
      "cell_type": "code",
      "source": [
        "simple_matching_sim = simple_matching_similarity(object1, object2)\n",
        "print(f\"Simple Matching Similarity: {simple_matching_sim}\")\n",
        "\n",
        "# Converting objects to binary for Jaccard similarity (for simplicity, using only one hot encoded part)\n",
        "object1_binary = object1[:, -len(encoder.categories_[0]):]  # Assuming last columns are binary\n",
        "object2_binary = object2[:, -len(encoder.categories_[0]):]\n",
        "jaccard_sim = jaccard_similarity(object1_binary[0], object2_binary[0])\n",
        "print(f\"Jaccard Similarity: {jaccard_sim}\")\n",
        "\n",
        "cosine_sim = cosine_similarity_measure(object1, object2)\n",
        "print(f\"Cosine Similarity: {cosine_sim}\")"
      ],
      "metadata": {
        "colab": {
          "base_uri": "https://localhost:8080/"
        },
        "id": "TRE-8ClyMr5W",
        "outputId": "461b0048-9970-42f7-ed63-033040cac6de"
      },
      "execution_count": 17,
      "outputs": [
        {
          "output_type": "stream",
          "name": "stdout",
          "text": [
            "Simple Matching Similarity: 0.5\n",
            "Jaccard Similarity: 0.0\n",
            "Cosine Similarity: 0.9999999943293292\n"
          ]
        }
      ]
    },
    {
      "cell_type": "markdown",
      "source": [
        "(b) Calculate Correlation between two features NumberCarsOwned and Yearly Income"
      ],
      "metadata": {
        "id": "Z2W8s8OiOnih"
      }
    },
    {
      "cell_type": "code",
      "source": [
        "if 'NumberCarsOwned_3' in df_selected.columns and 'YearlyIncome' in df_selected.columns:\n",
        "    correlation = df_selected[['NumberCarsOwned_3', 'YearlyIncome']].corr().iloc[0, 1]\n",
        "    print(f\"Correlation between Number of Cars Owned and Yearly Income: {correlation}\")\n",
        "else:\n",
        "    print(\"Required columns for correlation calculation are missing.\")"
      ],
      "metadata": {
        "colab": {
          "base_uri": "https://localhost:8080/"
        },
        "id": "bUL6V0X2M1hU",
        "outputId": "d7f17ce3-8e88-4c3f-ac39-21a738ed57ae"
      },
      "execution_count": 23,
      "outputs": [
        {
          "output_type": "stream",
          "name": "stdout",
          "text": [
            "Correlation between Number of Cars Owned and Yearly Income: 0.30689334857282835\n"
          ]
        }
      ]
    }
  ]
}