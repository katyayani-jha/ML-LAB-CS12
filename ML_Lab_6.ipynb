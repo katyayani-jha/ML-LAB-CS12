{
  "nbformat": 4,
  "nbformat_minor": 0,
  "metadata": {
    "colab": {
      "provenance": [],
      "authorship_tag": "ABX9TyMjW61rjsnlCILbzXStwcrR",
      "include_colab_link": true
    },
    "kernelspec": {
      "name": "python3",
      "display_name": "Python 3"
    },
    "language_info": {
      "name": "python"
    }
  },
  "cells": [
    {
      "cell_type": "markdown",
      "metadata": {
        "id": "view-in-github",
        "colab_type": "text"
      },
      "source": [
        "<a href=\"https://colab.research.google.com/github/katyayani-jha/ML-LAB-CS12/blob/main/ML_Lab_6.ipynb\" target=\"_parent\"><img src=\"https://colab.research.google.com/assets/colab-badge.svg\" alt=\"Open In Colab\"/></a>"
      ]
    },
    {
      "cell_type": "markdown",
      "source": [
        "Gaussian Naive Bayes Step-by-Step"
      ],
      "metadata": {
        "id": "St6iu8q1Vhtz"
      }
    },
    {
      "cell_type": "code",
      "execution_count": null,
      "metadata": {
        "id": "W5O8OpaOUhuT"
      },
      "outputs": [],
      "source": [
        "import numpy as np\n",
        "import pandas as pd\n",
        "from sklearn import datasets\n",
        "from sklearn.model_selection import train_test_split\n",
        "from sklearn.metrics import accuracy_score, classification_report"
      ]
    },
    {
      "cell_type": "code",
      "source": [
        "iris = datasets.load_iris()\n",
        "X = iris.data\n",
        "y = iris.target\n",
        "\n",
        "X_train, X_test, y_train, y_test = train_test_split(X, y, test_size=0.2, random_state=42, stratify=y)"
      ],
      "metadata": {
        "id": "BNePV5hDUnE1"
      },
      "execution_count": null,
      "outputs": []
    },
    {
      "cell_type": "code",
      "source": [
        "means = []\n",
        "variances = []\n",
        "classes = np.unique(y_train)\n",
        "\n",
        "for c in classes:\n",
        "    X_c = X_train[y_train == c]\n",
        "    means.append(X_c.mean(axis=0))\n",
        "    variances.append(X_c.var(axis=0))\n",
        "\n",
        "means = np.array(means)\n",
        "variances = np.array(variances)"
      ],
      "metadata": {
        "id": "CG7cgh6yUsbj"
      },
      "execution_count": null,
      "outputs": []
    },
    {
      "cell_type": "code",
      "source": [
        "# Gaussian probability density function (PDF)\n",
        "def gaussian_pdf(x, mean, var):\n",
        "    numerator = np.exp(- ((x - mean) ** 2) / (2 * var))\n",
        "    denominator = np.sqrt(2 * np.pi * var)\n",
        "    return numerator / denominator"
      ],
      "metadata": {
        "id": "SavaqMT6Uwu3"
      },
      "execution_count": null,
      "outputs": []
    },
    {
      "cell_type": "code",
      "source": [
        "priors = np.array([np.mean(y_train == c) for c in classes])"
      ],
      "metadata": {
        "id": "1DMNvXhzU4gv"
      },
      "execution_count": null,
      "outputs": []
    },
    {
      "cell_type": "code",
      "source": [
        "def predict(X):\n",
        "    predictions = []\n",
        "    for x in X:\n",
        "        posteriors = []\n",
        "        for idx, c in enumerate(classes):\n",
        "            prior = np.log(priors[idx])\n",
        "            likelihood = np.sum(np.log(gaussian_pdf(x, means[idx], variances[idx])))\n",
        "            posterior = prior + likelihood\n",
        "            posteriors.append(posterior)\n",
        "        predictions.append(np.argmax(posteriors))\n",
        "    return np.array(predictions)\n",
        "\n",
        "y_pred_step_by_step = predict(X_test)"
      ],
      "metadata": {
        "id": "G4ha9aPPU7AB"
      },
      "execution_count": null,
      "outputs": []
    },
    {
      "cell_type": "code",
      "source": [
        "accuracy_step_by_step = accuracy_score(y_test, y_pred_step_by_step)\n",
        "classification_report_step_by_step = classification_report(y_test, y_pred_step_by_step)\n",
        "\n",
        "print(\"Accuracy: \", accuracy_step_by_step)\n",
        "print()\n",
        "print(classification_report_step_by_step)"
      ],
      "metadata": {
        "colab": {
          "base_uri": "https://localhost:8080/"
        },
        "id": "5cCBkXLoVBBN",
        "outputId": "c294328f-2f27-4a4e-f867-450af43c0394"
      },
      "execution_count": null,
      "outputs": [
        {
          "output_type": "stream",
          "name": "stdout",
          "text": [
            "Accuracy:  0.9666666666666667\n",
            "\n",
            "              precision    recall  f1-score   support\n",
            "\n",
            "           0       1.00      1.00      1.00        10\n",
            "           1       1.00      0.90      0.95        10\n",
            "           2       0.91      1.00      0.95        10\n",
            "\n",
            "    accuracy                           0.97        30\n",
            "   macro avg       0.97      0.97      0.97        30\n",
            "weighted avg       0.97      0.97      0.97        30\n",
            "\n"
          ]
        }
      ]
    },
    {
      "cell_type": "markdown",
      "source": [
        "Gaussian Naive Bayes Inbuilt"
      ],
      "metadata": {
        "id": "FAODYeAiVmdh"
      }
    },
    {
      "cell_type": "code",
      "source": [
        "from sklearn.naive_bayes import GaussianNB"
      ],
      "metadata": {
        "id": "zmFjZ8-zVpF4"
      },
      "execution_count": null,
      "outputs": []
    },
    {
      "cell_type": "code",
      "source": [
        "gnb = GaussianNB()\n",
        "\n",
        "gnb.fit(X_train, y_train)\n",
        "\n",
        "y_pred_inbuilt = gnb.predict(X_test)"
      ],
      "metadata": {
        "id": "so_XvoooVyYB"
      },
      "execution_count": null,
      "outputs": []
    },
    {
      "cell_type": "code",
      "source": [
        "accuracy_inbuilt = accuracy_score(y_test, y_pred_inbuilt)\n",
        "classification_report_inbuilt = classification_report(y_test, y_pred_inbuilt)\n",
        "\n",
        "print(\"Accuracy: \", accuracy_inbuilt)\n",
        "print()\n",
        "print(classification_report_inbuilt)"
      ],
      "metadata": {
        "colab": {
          "base_uri": "https://localhost:8080/"
        },
        "id": "ou9ikA3MV4tt",
        "outputId": "39e5ce95-bccb-4df3-eade-3a969218371d"
      },
      "execution_count": null,
      "outputs": [
        {
          "output_type": "stream",
          "name": "stdout",
          "text": [
            "Accuracy:  0.9666666666666667\n",
            "\n",
            "              precision    recall  f1-score   support\n",
            "\n",
            "           0       1.00      1.00      1.00        10\n",
            "           1       1.00      0.90      0.95        10\n",
            "           2       0.91      1.00      0.95        10\n",
            "\n",
            "    accuracy                           0.97        30\n",
            "   macro avg       0.97      0.97      0.97        30\n",
            "weighted avg       0.97      0.97      0.97        30\n",
            "\n"
          ]
        }
      ]
    },
    {
      "cell_type": "markdown",
      "source": [
        "GridSearchCV KNN"
      ],
      "metadata": {
        "id": "VUokC4gSWEd9"
      }
    },
    {
      "cell_type": "code",
      "source": [
        "import numpy as np\n",
        "from sklearn import datasets\n",
        "from sklearn.model_selection import GridSearchCV, train_test_split\n",
        "from sklearn.neighbors import KNeighborsClassifier\n",
        "from sklearn.metrics import accuracy_score"
      ],
      "metadata": {
        "id": "MZRICDAIWY8F"
      },
      "execution_count": null,
      "outputs": []
    },
    {
      "cell_type": "code",
      "source": [
        "iris = datasets.load_iris()\n",
        "X = iris.data\n",
        "y = iris.target\n",
        "\n",
        "X_train, X_test, y_train, y_test = train_test_split(X, y, test_size=0.2, random_state=42, stratify=y)"
      ],
      "metadata": {
        "id": "zulXUxFSWc0u"
      },
      "execution_count": null,
      "outputs": []
    },
    {
      "cell_type": "code",
      "source": [
        "knn = KNeighborsClassifier()\n",
        "\n",
        "# Define the parameter grid for 'K' (number of neighbors)\n",
        "# Test K values from 1 to 30\n",
        "param_grid = {'n_neighbors': np.arange(1, 31)}\n",
        "\n",
        "# Set up GridSearchCV with cross-validation (5-fold)\n",
        "grid_search = GridSearchCV(knn, param_grid, cv=5, scoring='accuracy')\n",
        "\n",
        "grid_search.fit(X_train, y_train)\n",
        "\n",
        "best_k = grid_search.best_params_\n",
        "best_score = grid_search.best_score_\n",
        "\n",
        "print(\"Best k:\", best_k['n_neighbors'])\n",
        "print(\"Best score:\", best_score)"
      ],
      "metadata": {
        "colab": {
          "base_uri": "https://localhost:8080/"
        },
        "id": "0FwMy_kCWiAz",
        "outputId": "53b477e5-5338-43aa-e0e2-2ba5c29e47f3"
      },
      "execution_count": null,
      "outputs": [
        {
          "output_type": "stream",
          "name": "stdout",
          "text": [
            "Best k: 6\n",
            "Best score: 0.9833333333333334\n"
          ]
        }
      ]
    },
    {
      "cell_type": "code",
      "source": [
        "best_knn = grid_search.best_estimator_\n",
        "\n",
        "y_pred = best_knn.predict(X_test)\n",
        "\n",
        "test_accuracy = accuracy_score(y_test, y_pred)\n",
        "\n",
        "test_accuracy"
      ],
      "metadata": {
        "colab": {
          "base_uri": "https://localhost:8080/"
        },
        "id": "X93BxOF5W1f7",
        "outputId": "a72d7689-4387-4a2e-eca1-2714b43379c3"
      },
      "execution_count": null,
      "outputs": [
        {
          "output_type": "execute_result",
          "data": {
            "text/plain": [
              "0.9666666666666667"
            ]
          },
          "metadata": {},
          "execution_count": 21
        }
      ]
    }
  ]
}