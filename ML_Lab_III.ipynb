{
  "nbformat": 4,
  "nbformat_minor": 0,
  "metadata": {
    "colab": {
      "provenance": [],
      "authorship_tag": "ABX9TyM4NLvaN1fJcLAndX0l42/W",
      "include_colab_link": true
    },
    "kernelspec": {
      "name": "python3",
      "display_name": "Python 3"
    },
    "language_info": {
      "name": "python"
    }
  },
  "cells": [
    {
      "cell_type": "markdown",
      "metadata": {
        "id": "view-in-github",
        "colab_type": "text"
      },
      "source": [
        "<a href=\"https://colab.research.google.com/github/katyayani-jha/ML-LAB-CS12/blob/main/ML_Lab_III.ipynb\" target=\"_parent\"><img src=\"https://colab.research.google.com/assets/colab-badge.svg\" alt=\"Open In Colab\"/></a>"
      ]
    },
    {
      "cell_type": "markdown",
      "source": [
        "Question 1."
      ],
      "metadata": {
        "id": "53PtLhOfclVi"
      }
    },
    {
      "cell_type": "code",
      "execution_count": 1,
      "metadata": {
        "id": "o-K__QCKa7xm"
      },
      "outputs": [],
      "source": [
        "import pandas as pd\n",
        "import numpy as np\n",
        "from sklearn.model_selection import KFold\n",
        "from sklearn.preprocessing import StandardScaler\n",
        "from sklearn.metrics import r2_score"
      ]
    },
    {
      "cell_type": "code",
      "source": [
        "from google.colab import drive\n",
        "drive.mount('/content/drive')\n",
        "\n",
        "import os\n",
        "\n",
        "folder_path = '/content/drive/MyDrive'\n",
        "\n",
        "import pandas as pd\n",
        "\n",
        "file_path = os.path.join(folder_path, 'USA_Housing.csv')\n",
        "df = pd.read_csv(file_path)\n",
        "print(df.head())"
      ],
      "metadata": {
        "colab": {
          "base_uri": "https://localhost:8080/"
        },
        "id": "BupppiXMbH3Z",
        "outputId": "7956d72b-ae23-4b2d-c14f-e6b1f6d257cc"
      },
      "execution_count": 2,
      "outputs": [
        {
          "output_type": "stream",
          "name": "stdout",
          "text": [
            "Mounted at /content/drive\n",
            "   Avg. Area Income  Avg. Area House Age  Avg. Area Number of Rooms  \\\n",
            "0       79545.45857             5.682861                   7.009188   \n",
            "1       79248.64245             6.002900                   6.730821   \n",
            "2       61287.06718             5.865890                   8.512727   \n",
            "3       63345.24005             7.188236                   5.586729   \n",
            "4       59982.19723             5.040555                   7.839388   \n",
            "\n",
            "   Avg. Area Number of Bedrooms  Area Population         Price  \n",
            "0                          4.09      23086.80050  1.059034e+06  \n",
            "1                          3.09      40173.07217  1.505891e+06  \n",
            "2                          5.13      36882.15940  1.058988e+06  \n",
            "3                          3.26      34310.24283  1.260617e+06  \n",
            "4                          4.23      26354.10947  6.309435e+05  \n"
          ]
        }
      ]
    },
    {
      "cell_type": "code",
      "source": [
        "X = df.drop('Price', axis=1).values  # Input features\n",
        "y = df['Price'].values  # Output variable"
      ],
      "metadata": {
        "id": "sbXoMxBvbhfy"
      },
      "execution_count": 4,
      "outputs": []
    },
    {
      "cell_type": "code",
      "source": [
        "scaler = StandardScaler()\n",
        "X_scaled = scaler.fit_transform(X)"
      ],
      "metadata": {
        "id": "mvgKbUj_bnCE"
      },
      "execution_count": 5,
      "outputs": []
    },
    {
      "cell_type": "code",
      "source": [
        "kf = KFold(n_splits=5)\n",
        "\n",
        "# Initializing variables to track the best beta and best R² score\n",
        "best_beta = None\n",
        "best_r2_score = -np.inf"
      ],
      "metadata": {
        "id": "jSCe2TErbqdp"
      },
      "execution_count": 6,
      "outputs": []
    },
    {
      "cell_type": "code",
      "source": [
        "for train_index, test_index in kf.split(X_scaled):\n",
        "    # Dividing the data into training and testing sets for each fold\n",
        "    X_train, X_test = X_scaled[train_index], X_scaled[test_index]\n",
        "    y_train, y_test = y[train_index], y[test_index]\n",
        "\n",
        "    # Calculating the beta (𝛽) matrix using the normal equation: beta = (X.T * X)^(-1) * X.T * y\n",
        "    X_train_bias = np.c_[np.ones(X_train.shape[0]), X_train]  # Adding the bias term (intercept)\n",
        "    beta = np.linalg.inv(X_train_bias.T @ X_train_bias) @ X_train_bias.T @ y_train\n",
        "\n",
        "    # Predicting on the test set\n",
        "    X_test_bias = np.c_[np.ones(X_test.shape[0]), X_test]  # Adding the bias term for the test set\n",
        "    y_pred = X_test_bias @ beta\n",
        "\n",
        "    r2 = r2_score(y_test, y_pred)\n",
        "    print(f'R² score for this fold: {r2}')\n",
        "\n",
        "    if r2 > best_r2_score:\n",
        "        best_r2_score = r2\n",
        "        best_beta = beta"
      ],
      "metadata": {
        "colab": {
          "base_uri": "https://localhost:8080/"
        },
        "id": "EDvag5bEbO7R",
        "outputId": "f32ed9ba-39d3-4f10-d4ae-d3e1e3588653"
      },
      "execution_count": 7,
      "outputs": [
        {
          "output_type": "stream",
          "name": "stdout",
          "text": [
            "R² score for this fold: 0.9175899480765107\n",
            "R² score for this fold: 0.920301549640113\n",
            "R² score for this fold: 0.9152429915320014\n",
            "R² score for this fold: 0.9208503836977656\n",
            "R² score for this fold: 0.9138111758717495\n"
          ]
        }
      ]
    },
    {
      "cell_type": "code",
      "source": [
        "from sklearn.model_selection import train_test_split\n",
        "\n",
        "X_train_final, X_test_final, y_train_final, y_test_final = train_test_split(X_scaled, y, test_size=0.3, random_state=42)\n",
        "\n",
        "# Adding the bias term (intercept) for the final training and testing sets\n",
        "X_train_final_bias = np.c_[np.ones(X_train_final.shape[0]), X_train_final]\n",
        "X_test_final_bias = np.c_[np.ones(X_test_final.shape[0]), X_test_final]\n",
        "\n",
        "# Calculating predictions using the best beta\n",
        "y_train_pred = X_train_final_bias @ best_beta\n",
        "y_test_pred = X_test_final_bias @ best_beta\n",
        "\n",
        "final_r2_score = r2_score(y_test_final, y_test_pred)\n",
        "print(f'Final R² score on test data: {final_r2_score}')"
      ],
      "metadata": {
        "colab": {
          "base_uri": "https://localhost:8080/"
        },
        "id": "sTIb8TuXb5pG",
        "outputId": "9bdd24bc-aacd-4ad9-ac73-bf70fbad3326"
      },
      "execution_count": 8,
      "outputs": [
        {
          "output_type": "stream",
          "name": "stdout",
          "text": [
            "Final R² score on test data: 0.9146868482147401\n"
          ]
        }
      ]
    },
    {
      "cell_type": "markdown",
      "source": [
        "Question 2."
      ],
      "metadata": {
        "id": "15msrhtDcoKv"
      }
    },
    {
      "cell_type": "code",
      "source": [
        "import numpy as np\n",
        "import pandas as pd\n",
        "from sklearn.model_selection import train_test_split\n",
        "from sklearn.metrics import r2_score\n",
        "from sklearn.preprocessing import StandardScaler"
      ],
      "metadata": {
        "id": "3bxhvcX-eQpr"
      },
      "execution_count": 9,
      "outputs": []
    },
    {
      "cell_type": "code",
      "source": [
        "from google.colab import drive\n",
        "drive.mount('/content/drive')\n",
        "\n",
        "import os\n",
        "\n",
        "folder_path = '/content/drive/MyDrive'\n",
        "\n",
        "import pandas as pd\n",
        "\n",
        "file_path = os.path.join(folder_path, 'USA_Housing.csv')\n",
        "df = pd.read_csv(file_path)\n",
        "print(df.head())"
      ],
      "metadata": {
        "colab": {
          "base_uri": "https://localhost:8080/"
        },
        "id": "iaX5p81ieMGM",
        "outputId": "fcbbfa04-a96f-4aa3-d7bc-22f0dbb28167"
      },
      "execution_count": 10,
      "outputs": [
        {
          "output_type": "stream",
          "name": "stdout",
          "text": [
            "Drive already mounted at /content/drive; to attempt to forcibly remount, call drive.mount(\"/content/drive\", force_remount=True).\n",
            "   Avg. Area Income  Avg. Area House Age  Avg. Area Number of Rooms  \\\n",
            "0       79545.45857             5.682861                   7.009188   \n",
            "1       79248.64245             6.002900                   6.730821   \n",
            "2       61287.06718             5.865890                   8.512727   \n",
            "3       63345.24005             7.188236                   5.586729   \n",
            "4       59982.19723             5.040555                   7.839388   \n",
            "\n",
            "   Avg. Area Number of Bedrooms  Area Population         Price  \n",
            "0                          4.09      23086.80050  1.059034e+06  \n",
            "1                          3.09      40173.07217  1.505891e+06  \n",
            "2                          5.13      36882.15940  1.058988e+06  \n",
            "3                          3.26      34310.24283  1.260617e+06  \n",
            "4                          4.23      26354.10947  6.309435e+05  \n"
          ]
        }
      ]
    },
    {
      "cell_type": "code",
      "source": [
        "X = df.drop('Price', axis=1).values\n",
        "y = df['Price'].values"
      ],
      "metadata": {
        "id": "38haJdg0eZ_A"
      },
      "execution_count": 11,
      "outputs": []
    },
    {
      "cell_type": "code",
      "source": [
        "scaler = StandardScaler()\n",
        "X_scaled = scaler.fit_transform(X)"
      ],
      "metadata": {
        "id": "UCBsycEnebW_"
      },
      "execution_count": 12,
      "outputs": []
    },
    {
      "cell_type": "code",
      "source": [
        "# Spliting the data into training (56%), validation (14%), and test (30%) sets\n",
        "X_train, X_temp, y_train, y_temp = train_test_split(X_scaled, y, test_size=0.44, random_state=42)\n",
        "X_val, X_test, y_val, y_test = train_test_split(X_temp, y_temp, test_size=0.68, random_state=42)"
      ],
      "metadata": {
        "id": "CkrrH9KGfKyu"
      },
      "execution_count": 13,
      "outputs": []
    },
    {
      "cell_type": "code",
      "source": [
        "def gradient_descent(X, y, learning_rate, iterations):\n",
        "    m, n = X.shape\n",
        "    theta = np.zeros(n)  # Initializing the regression coefficients (weights)\n",
        "    for _ in range(iterations):\n",
        "        gradient = (1/m) * X.T.dot(X.dot(theta) - y)\n",
        "        theta -= learning_rate * gradient\n",
        "    return theta"
      ],
      "metadata": {
        "id": "l4hQicQhfR7v"
      },
      "execution_count": 14,
      "outputs": []
    },
    {
      "cell_type": "code",
      "source": [
        "# Adding a bias term (intercept) to each set\n",
        "X_train_bias = np.c_[np.ones(X_train.shape[0]), X_train]\n",
        "X_val_bias = np.c_[np.ones(X_val.shape[0]), X_val]\n",
        "X_test_bias = np.c_[np.ones(X_test.shape[0]), X_test]"
      ],
      "metadata": {
        "id": "mM6cIhTJfUVt"
      },
      "execution_count": 15,
      "outputs": []
    },
    {
      "cell_type": "code",
      "source": [
        "learning_rates = [0.001, 0.01, 0.1, 1]\n",
        "iterations = 1000\n",
        "best_r2_val = -np.inf\n",
        "best_theta = None\n",
        "results = []\n",
        "\n",
        "for lr in learning_rates:\n",
        "    print(f\"Training with learning rate: {lr}\")\n",
        "\n",
        "    # Training the model using gradient descent\n",
        "    theta = gradient_descent(X_train_bias, y_train, lr, iterations)\n",
        "\n",
        "    y_val_pred = X_val_bias.dot(theta)\n",
        "    y_test_pred = X_test_bias.dot(theta)\n",
        "    r2_val = r2_score(y_val, y_val_pred)\n",
        "    r2_test = r2_score(y_test, y_test_pred)\n",
        "\n",
        "    print(f\"Learning Rate: {lr}, R² on Validation set: {r2_val}, R² on Test set: {r2_test}\")\n",
        "\n",
        "    results.append({\n",
        "        'learning_rate': lr,\n",
        "        'theta': theta,\n",
        "        'r2_val': r2_val,\n",
        "        'r2_test': r2_test\n",
        "    })\n",
        "\n",
        "    # Updating the best theta based on validation R² score\n",
        "    if r2_val > best_r2_val:\n",
        "        best_r2_val = r2_val\n",
        "        best_theta = theta\n",
        "\n",
        "best_result = max(results, key=lambda x: x['r2_val'])\n",
        "print(f\"\\nBest learning rate: {best_result['learning_rate']}\")\n",
        "print(f\"Best theta: {best_result['theta']}\")\n",
        "print(f\"R² on Validation set: {best_result['r2_val']}\")\n",
        "print(f\"R² on Test set: {best_result['r2_test']}\")"
      ],
      "metadata": {
        "colab": {
          "base_uri": "https://localhost:8080/"
        },
        "id": "mRJ2o1XfciV3",
        "outputId": "e3185014-9324-4699-b941-cf9bd3cee7ce"
      },
      "execution_count": 16,
      "outputs": [
        {
          "output_type": "stream",
          "name": "stdout",
          "text": [
            "Training with learning rate: 0.001\n",
            "Learning Rate: 0.001, R² on Validation set: -1.0335339555142435, R² on Test set: -0.9634048206675561\n",
            "Training with learning rate: 0.01\n",
            "Learning Rate: 0.01, R² on Validation set: 0.9202011879628708, R² on Test set: 0.9133274876797325\n",
            "Training with learning rate: 0.1\n",
            "Learning Rate: 0.1, R² on Validation set: 0.9202207766800662, R² on Test set: 0.9133419747998835\n",
            "Training with learning rate: 1\n",
            "Learning Rate: 1, R² on Validation set: 0.9202207766800662, R² on Test set: 0.9133419747998835\n",
            "\n",
            "Best learning rate: 0.1\n",
            "Best theta: [1232180.27200919  230645.88389435  165328.94019375  120045.00851908\n",
            "    2945.02108903  151375.22971285]\n",
            "R² on Validation set: 0.9202207766800662\n",
            "R² on Test set: 0.9133419747998835\n"
          ]
        }
      ]
    },
    {
      "cell_type": "markdown",
      "source": [
        "Question 3."
      ],
      "metadata": {
        "id": "E11JHDhMdIoj"
      }
    },
    {
      "cell_type": "code",
      "source": [
        "import pandas as pd\n",
        "import numpy as np\n",
        "from sklearn.model_selection import train_test_split\n",
        "from sklearn.preprocessing import LabelEncoder, StandardScaler\n",
        "from sklearn.impute import SimpleImputer\n",
        "from sklearn.linear_model import LinearRegression\n",
        "from sklearn.decomposition import PCA\n",
        "from sklearn.metrics import r2_score"
      ],
      "metadata": {
        "id": "RrS4Dr5WfkmP"
      },
      "execution_count": 17,
      "outputs": []
    },
    {
      "cell_type": "code",
      "source": [
        "columns = [\"symboling\", \"normalized_losses\", \"make\", \"fuel_type\", \"aspiration\",\n",
        "           \"num_doors\", \"body_style\", \"drive_wheels\", \"engine_location\", \"wheel_base\",\n",
        "           \"length\", \"width\", \"height\", \"curb_weight\", \"engine_type\", \"num_cylinders\",\n",
        "           \"engine_size\", \"fuel_system\", \"bore\", \"stroke\", \"compression_ratio\",\n",
        "           \"horsepower\", \"peak_rpm\", \"city_mpg\", \"highway_mpg\", \"price\"]\n",
        "\n",
        "url = \"https://archive.ics.uci.edu/ml/machine-learning-databases/autos/imports-85.data\"\n",
        "df = pd.read_csv(url, names=columns, na_values='?')"
      ],
      "metadata": {
        "id": "8k4WOXXOftFi"
      },
      "execution_count": 18,
      "outputs": []
    },
    {
      "cell_type": "code",
      "source": [
        "imputer_mean = SimpleImputer(strategy='mean')\n",
        "imputer_mode = SimpleImputer(strategy='most_frequent')\n",
        "\n",
        "# Imputing numeric columns with mean\n",
        "numeric_cols = df.select_dtypes(include=[np.number]).columns\n",
        "df[numeric_cols] = imputer_mean.fit_transform(df[numeric_cols])\n",
        "\n",
        "# Imputing categorical columns with mode\n",
        "categorical_cols = df.select_dtypes(exclude=[np.number]).columns\n",
        "df[categorical_cols] = imputer_mode.fit_transform(df[categorical_cols])\n",
        "\n",
        "df = df.dropna(subset=['price'])"
      ],
      "metadata": {
        "id": "ekLnyoiVf0ai"
      },
      "execution_count": 21,
      "outputs": []
    },
    {
      "cell_type": "code",
      "source": [
        "# Converting words to figures for 'num_doors' and 'num_cylinders'\n",
        "num_doors_map = {'two': 2, 'four': 4}\n",
        "num_cylinders_map = {'two': 2, 'three': 3, 'four': 4, 'five': 5, 'six': 6, 'eight': 8, 'twelve': 12}\n",
        "\n",
        "df['num_doors'] = df['num_doors'].map(num_doors_map)\n",
        "df['num_cylinders'] = df['num_cylinders'].map(num_cylinders_map)\n",
        "\n",
        "# Dummy encoding for 'body_style' and 'drive_wheels'\n",
        "df = pd.get_dummies(df, columns=['body_style', 'drive_wheels'], drop_first=True)\n",
        "\n",
        "# Label encoding for 'make', 'aspiration', 'engine_location', 'fuel_type'\n",
        "label_enc_cols = ['make', 'aspiration', 'engine_location', 'fuel_type']\n",
        "le = LabelEncoder()\n",
        "for col in label_enc_cols:\n",
        "    df[col] = le.fit_transform(df[col])\n",
        "\n",
        "# Replacing 'fuel_system': 'pfi' -> 1, else 0\n",
        "df['fuel_system'] = np.where(df['fuel_system'].str.contains('pfi'), 1, 0)\n",
        "\n",
        "# Replacing 'engine_type': 'ohc' -> 1, else 0\n",
        "df['engine_type'] = np.where(df['engine_type'].str.contains('ohc'), 1, 0)"
      ],
      "metadata": {
        "id": "Gf-i5L7VgLLT"
      },
      "execution_count": 22,
      "outputs": []
    },
    {
      "cell_type": "code",
      "source": [
        "X = df.drop('price', axis=1).values\n",
        "y = df['price'].values\n",
        "\n",
        "scaler = StandardScaler()\n",
        "X_scaled = scaler.fit_transform(X)"
      ],
      "metadata": {
        "id": "g7QVhkEQgPu0"
      },
      "execution_count": 23,
      "outputs": []
    },
    {
      "cell_type": "code",
      "source": [
        "X_train, X_test, y_train, y_test = train_test_split(X_scaled, y, test_size=0.3, random_state=42)\n",
        "\n",
        "regressor = LinearRegression()\n",
        "regressor.fit(X_train, y_train)\n",
        "\n",
        "y_pred = regressor.predict(X_test)\n",
        "r2_original = r2_score(y_test, y_pred)\n",
        "print(f\"R² score on original test data: {r2_original}\")"
      ],
      "metadata": {
        "colab": {
          "base_uri": "https://localhost:8080/"
        },
        "id": "wO5WMplIdKY6",
        "outputId": "bebe75dd-aca3-4d5d-c4bf-a3cfd6000e7d"
      },
      "execution_count": 24,
      "outputs": [
        {
          "output_type": "stream",
          "name": "stdout",
          "text": [
            "R² score on original test data: 0.804442243576259\n"
          ]
        }
      ]
    },
    {
      "cell_type": "code",
      "source": [
        "pca = PCA(n_components=0.95)  # Retaining 95% of variance\n",
        "X_train_pca = pca.fit_transform(X_train)\n",
        "X_test_pca = pca.transform(X_test)\n",
        "\n",
        "# Training linear regressor on reduced data\n",
        "regressor_pca = LinearRegression()\n",
        "regressor_pca.fit(X_train_pca, y_train)\n",
        "\n",
        "y_pred_pca = regressor_pca.predict(X_test_pca)\n",
        "r2_pca = r2_score(y_test, y_pred_pca)\n",
        "print(f\"R² score on PCA-reduced test data: {r2_pca}\")\n",
        "\n",
        "if r2_pca > r2_original:\n",
        "    print(\"PCA improved the model performance.\")\n",
        "else:\n",
        "    print(\"PCA did not improve the model performance.\")"
      ],
      "metadata": {
        "colab": {
          "base_uri": "https://localhost:8080/"
        },
        "id": "sN7MCBUpgXFb",
        "outputId": "dddc7111-f9cb-4240-b0e3-66b5f455525b"
      },
      "execution_count": 25,
      "outputs": [
        {
          "output_type": "stream",
          "name": "stdout",
          "text": [
            "R² score on PCA-reduced test data: 0.7577769105521941\n",
            "PCA did not improve the model performance.\n"
          ]
        }
      ]
    }
  ]
}