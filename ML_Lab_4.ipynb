{
  "nbformat": 4,
  "nbformat_minor": 0,
  "metadata": {
    "colab": {
      "provenance": [],
      "authorship_tag": "ABX9TyNmpQA5k5XBpUckI50GrI7w",
      "include_colab_link": true
    },
    "kernelspec": {
      "name": "python3",
      "display_name": "Python 3"
    },
    "language_info": {
      "name": "python"
    }
  },
  "cells": [
    {
      "cell_type": "markdown",
      "metadata": {
        "id": "view-in-github",
        "colab_type": "text"
      },
      "source": [
        "<a href=\"https://colab.research.google.com/github/katyayani-jha/ML-LAB-CS12/blob/main/ML_Lab_4.ipynb\" target=\"_parent\"><img src=\"https://colab.research.google.com/assets/colab-badge.svg\" alt=\"Open In Colab\"/></a>"
      ]
    },
    {
      "cell_type": "markdown",
      "source": [
        "Question 1."
      ],
      "metadata": {
        "id": "RdqTuM0AkSr9"
      }
    },
    {
      "cell_type": "code",
      "source": [
        "import numpy as np\n",
        "import pandas as pd\n",
        "from sklearn.metrics import r2_score\n",
        "from sklearn.preprocessing import StandardScaler\n",
        "import matplotlib.pyplot as plt"
      ],
      "metadata": {
        "id": "MkTXj_6tifKl"
      },
      "execution_count": 1,
      "outputs": []
    },
    {
      "cell_type": "code",
      "source": [
        "np.random.seed(42)\n",
        "n_samples = 1000\n",
        "X_base = np.random.rand(n_samples, 1)\n",
        "\n",
        "# Creating 7 highly correlated features\n",
        "X = np.hstack([X_base + np.random.normal(0, 0.01, (n_samples, 1)) for _ in range(7)])\n",
        "\n",
        "# Generating the target variable with some noise\n",
        "true_coefficients = np.array([5, 4, 3, 2, 1, 0.5, 0.1])\n",
        "y = X.dot(true_coefficients) + np.random.normal(0, 0.5, n_samples)"
      ],
      "metadata": {
        "id": "a38FF1zIilEp"
      },
      "execution_count": 2,
      "outputs": []
    },
    {
      "cell_type": "code",
      "source": [
        "scaler = StandardScaler()\n",
        "X_scaled = scaler.fit_transform(X)"
      ],
      "metadata": {
        "id": "vICATT-oiqXW"
      },
      "execution_count": 3,
      "outputs": []
    },
    {
      "cell_type": "code",
      "source": [
        "def ridge_regression_gradient_descent(X, y, learning_rate, reg_param, iterations):\n",
        "    m, n = X.shape\n",
        "    theta = np.zeros(n)\n",
        "    cost_history = []\n",
        "\n",
        "    for i in range(iterations):\n",
        "        y_pred = X.dot(theta)\n",
        "\n",
        "        # Computing gradients with L2 regularization\n",
        "        gradient = (1/m) * X.T.dot(y_pred - y) + (reg_param/m) * theta\n",
        "\n",
        "        # Updating the weights\n",
        "        theta -= learning_rate * gradient\n",
        "\n",
        "        cost = (1/(2*m)) * np.sum((y_pred - y)**2) + (reg_param/(2*m)) * np.sum(theta**2)\n",
        "        cost_history.append(cost)\n",
        "\n",
        "        if np.isnan(theta).any() or np.isinf(theta).any():\n",
        "            print(f\"Divergence detected at iteration {i}. Learning rate: {learning_rate}, Regularization: {reg_param}\")\n",
        "            break\n",
        "\n",
        "    return theta, cost_history"
      ],
      "metadata": {
        "id": "GcXpxw-8ivT3"
      },
      "execution_count": 9,
      "outputs": []
    },
    {
      "cell_type": "code",
      "execution_count": 13,
      "metadata": {
        "colab": {
          "base_uri": "https://localhost:8080/",
          "height": 1000
        },
        "id": "FEDBPr8kh_Mt",
        "outputId": "9a64b7c8-e038-4e34-cc12-e8d5ee305617"
      },
      "outputs": [
        {
          "output_type": "stream",
          "name": "stdout",
          "text": [
            "Training with learning rate: 0.0001, regularization parameter: 1e-15\n",
            "R² score: -2.0646585266774293, Final cost: 32.13736022397866\n",
            "Training with learning rate: 0.0001, regularization parameter: 1e-10\n",
            "R² score: -2.0646585266774315, Final cost: 32.13736022397872\n",
            "Training with learning rate: 0.0001, regularization parameter: 1e-05\n",
            "R² score: -2.064658526895578, Final cost: 32.137360230011744\n",
            "Training with learning rate: 0.0001, regularization parameter: 0.001\n",
            "R² score: -2.0646585484922597, Final cost: 32.13736082728722\n",
            "Training with learning rate: 0.0001, regularization parameter: 0\n",
            "R² score: -2.0646585266774293, Final cost: 32.13736022397866\n",
            "Training with learning rate: 0.0001, regularization parameter: 1\n",
            "R² score: -2.064680341314116, Final cost: 32.137963497412336\n",
            "Training with learning rate: 0.0001, regularization parameter: 10\n",
            "R² score: -2.064876655594619, Final cost: 32.14338979523783\n",
            "Training with learning rate: 0.0001, regularization parameter: 20\n",
            "R² score: -2.0650947456810766, Final cost: 32.149412343585674\n",
            "Training with learning rate: 0.001, regularization parameter: 1e-15\n",
            "R² score: -1.8209979725756322, Final cost: 29.5789358493778\n",
            "Training with learning rate: 0.001, regularization parameter: 1e-10\n",
            "R² score: -1.8209979725756327, Final cost: 29.57893584937795\n",
            "Training with learning rate: 0.001, regularization parameter: 1e-05\n",
            "R² score: -1.8209979725781458, Final cost: 29.578935864179687\n",
            "Training with learning rate: 0.001, regularization parameter: 0.001\n",
            "R² score: -1.8209979728269823, Final cost: 29.578937329566422\n",
            "Training with learning rate: 0.001, regularization parameter: 0\n",
            "R² score: -1.8209979725756322, Final cost: 29.5789358493778\n",
            "Training with learning rate: 0.001, regularization parameter: 1\n",
            "R² score: -1.8209982437626246, Final cost: 29.580415826568352\n",
            "Training with learning rate: 0.001, regularization parameter: 10\n",
            "R² score: -1.821002466562427, Final cost: 29.593716600519464\n",
            "Training with learning rate: 0.001, regularization parameter: 20\n",
            "R² score: -1.821010899819444, Final cost: 29.608455197810198\n",
            "Training with learning rate: 0.01, regularization parameter: 1e-15\n",
            "R² score: -1.8209945477965688, Final cost: 29.578899849386385\n",
            "Training with learning rate: 0.01, regularization parameter: 1e-10\n",
            "R² score: -1.8209945477965688, Final cost: 29.578899849386534\n",
            "Training with learning rate: 0.01, regularization parameter: 1e-05\n",
            "R² score: -1.820994547796714, Final cost: 29.578899864191293\n",
            "Training with learning rate: 0.01, regularization parameter: 0.001\n",
            "R² score: -1.8209945478110972, Final cost: 29.578901329876743\n",
            "Training with learning rate: 0.01, regularization parameter: 0\n",
            "R² score: -1.8209945477965688, Final cost: 29.578899849386385\n",
            "Training with learning rate: 0.01, regularization parameter: 1\n",
            "R² score: -1.8209945824389133, Final cost: 29.58038012629348\n",
            "Training with learning rate: 0.01, regularization parameter: 10\n",
            "R² score: -1.8209967011965356, Final cost: 29.59368342497875\n",
            "Training with learning rate: 0.01, regularization parameter: 20\n",
            "R² score: -1.8210028487245982, Final cost: 29.608424496979595\n",
            "Training with learning rate: 0.1, regularization parameter: 1e-15\n",
            "R² score: -1.820971141018576, Final cost: 29.57865463680036\n",
            "Training with learning rate: 0.1, regularization parameter: 1e-10\n",
            "R² score: -1.820971141018576, Final cost: 29.57865463680051\n",
            "Training with learning rate: 0.1, regularization parameter: 1e-05\n",
            "R² score: -1.8209711410306917, Final cost: 29.578654651866927\n",
            "Training with learning rate: 0.1, regularization parameter: 0.001\n",
            "R² score: -1.8209711422301171, Final cost: 29.578656143454765\n",
            "Training with learning rate: 0.1, regularization parameter: 0\n",
            "R² score: -1.820971141018576, Final cost: 29.57865463680036\n",
            "Training with learning rate: 0.1, regularization parameter: 1\n",
            "R² score: -1.8209723373829085, Final cost: 29.58015943578756\n",
            "Training with learning rate: 0.1, regularization parameter: 10\n",
            "R² score: -1.820982307326172, Final cost: 29.59358740465441\n",
            "Training with learning rate: 0.1, regularization parameter: 20\n",
            "R² score: -1.8209935103147377, Final cost: 29.608377617366155\n",
            "\n",
            "Best learning rate: 0.1\n",
            "Best regularization parameter: 1e-15\n",
            "Best R² score: -1.820971141018576\n",
            "Best Ridge Regression cost: 29.57865463680036\n"
          ]
        },
        {
          "output_type": "display_data",
          "data": {
            "text/plain": [
              "<Figure size 640x480 with 1 Axes>"
            ],
            "image/png": "[encoded data removed]"
          },
          "metadata": {}
        }
      ],
      "source": [
        "# Hyperparameter tuning\n",
        "learning_rates = [0.0001, 0.001, 0.01, 0.1]\n",
        "regularization_params = [10**-15, 10**-10, 10**-5, 10**-3, 0, 1, 10, 20]\n",
        "iterations = 1000\n",
        "\n",
        "best_r2_score = -np.inf\n",
        "best_params = None\n",
        "best_theta = None\n",
        "best_cost = None\n",
        "results = []\n",
        "\n",
        "for lr in learning_rates:\n",
        "    for reg_param in regularization_params:\n",
        "        print(f\"Training with learning rate: {lr}, regularization parameter: {reg_param}\")\n",
        "\n",
        "        # Training using gradient descent\n",
        "        theta, cost_history = ridge_regression_gradient_descent(X_scaled, y, lr, reg_param, iterations)\n",
        "\n",
        "        y_pred = X_scaled.dot(theta)\n",
        "\n",
        "        # Handling NaN values in y_pred and y\n",
        "        mask = ~np.isnan(y_pred) & ~np.isnan(y)  # Filtering out NaN values\n",
        "        y_pred_filtered = y_pred[mask]\n",
        "        y_filtered = y[mask]\n",
        "\n",
        "        if len(y_filtered) > 0:  # Checking if there's data left after filtering\n",
        "            r2 = r2_score(y_filtered, y_pred_filtered)\n",
        "        else:\n",
        "            r2 = np.nan  # Handling the case where all values are NaN\n",
        "\n",
        "        final_cost = cost_history[-1]\n",
        "\n",
        "        print(f\"R² score: {r2}, Final cost: {final_cost}\")\n",
        "\n",
        "        results.append({\n",
        "            'learning_rate': lr,\n",
        "            'reg_param': reg_param,\n",
        "            'theta': theta,\n",
        "            'r2_score': r2,\n",
        "            'cost': final_cost\n",
        "        })\n",
        "\n",
        "        if r2 > best_r2_score:\n",
        "            best_r2_score = r2\n",
        "            best_params = (lr, reg_param)\n",
        "            best_theta = theta\n",
        "            best_cost = final_cost\n",
        "\n",
        "print(f\"\\nBest learning rate: {best_params[0]}\")\n",
        "print(f\"Best regularization parameter: {best_params[1]}\")\n",
        "print(f\"Best R² score: {best_r2_score}\")\n",
        "print(f\"Best Ridge Regression cost: {best_cost}\")\n",
        "\n",
        "plt.plot(cost_history)\n",
        "plt.title(f'Cost History (Learning Rate: {best_params[0]}, Reg Param: {best_params[1]})')\n",
        "plt.xlabel('Iterations')\n",
        "plt.ylabel('Cost')\n",
        "plt.show()"
      ]
    },
    {
      "cell_type": "markdown",
      "source": [
        "Question 2."
      ],
      "metadata": {
        "id": "CqE6pT1IkPL3"
      }
    },
    {
      "cell_type": "code",
      "source": [
        "import pandas as pd\n",
        "import numpy as np\n",
        "from sklearn.model_selection import train_test_split\n",
        "from sklearn.preprocessing import StandardScaler, LabelEncoder\n",
        "from sklearn.linear_model import LinearRegression, Ridge, Lasso\n",
        "from sklearn.metrics import r2_score, mean_squared_error"
      ],
      "metadata": {
        "id": "K1r1EImPmpjL"
      },
      "execution_count": 15,
      "outputs": []
    },
    {
      "cell_type": "code",
      "source": [
        "from google.colab import drive\n",
        "drive.mount('/content/drive')\n",
        "\n",
        "import os\n",
        "\n",
        "folder_path = '/content/drive/MyDrive'\n",
        "\n",
        "import pandas as pd\n",
        "\n",
        "file_path = os.path.join(folder_path, 'Hitters.csv')\n",
        "df = pd.read_csv(file_path)\n",
        "print(df.head())"
      ],
      "metadata": {
        "colab": {
          "base_uri": "https://localhost:8080/"
        },
        "id": "qY-R36tRmVbI",
        "outputId": "4a2f9b6e-abe4-4259-a6e8-b7a0f8c2069a"
      },
      "execution_count": 14,
      "outputs": [
        {
          "output_type": "stream",
          "name": "stdout",
          "text": [
            "Mounted at /content/drive\n",
            "   AtBat  Hits  HmRun  Runs  RBI  Walks  Years  CAtBat  CHits  CHmRun  CRuns  \\\n",
            "0    293    66      1    30   29     14      1     293     66       1     30   \n",
            "1    315    81      7    24   38     39     14    3449    835      69    321   \n",
            "2    479   130     18    66   72     76      3    1624    457      63    224   \n",
            "3    496   141     20    65   78     37     11    5628   1575     225    828   \n",
            "4    321    87     10    39   42     30      2     396    101      12     48   \n",
            "\n",
            "   CRBI  CWalks League Division  PutOuts  Assists  Errors  Salary NewLeague  \n",
            "0    29      14      A        E      446       33      20     NaN         A  \n",
            "1   414     375      N        W      632       43      10   475.0         N  \n",
            "2   266     263      A        W      880       82      14   480.0         A  \n",
            "3   838     354      N        E      200       11       3   500.0         N  \n",
            "4    46      33      N        E      805       40       4    91.5         N  \n"
          ]
        }
      ]
    },
    {
      "cell_type": "code",
      "source": [
        "numeric_df = df.select_dtypes(include=np.number)\n",
        "\n",
        "df[numeric_df.columns] = numeric_df.fillna(numeric_df.mean())\n",
        "df.fillna(df.mode().iloc[0], inplace=True)\n",
        "\n",
        "# Converting categorical variables to numeric using Label Encoding\n",
        "label_enc_cols = df.select_dtypes(include=['object']).columns\n",
        "le = LabelEncoder()\n",
        "for col in label_enc_cols:\n",
        "    df[col] = le.fit_transform(df[col])"
      ],
      "metadata": {
        "id": "ry85gXtQm-N0"
      },
      "execution_count": 17,
      "outputs": []
    },
    {
      "cell_type": "code",
      "source": [
        "X = df.drop('Salary', axis=1)  # Assuming 'Salary' is the target variable\n",
        "y = df['Salary']\n",
        "\n",
        "scaler = StandardScaler()\n",
        "X_scaled = scaler.fit_transform(X)"
      ],
      "metadata": {
        "id": "6TAKFrG1nOBS"
      },
      "execution_count": 18,
      "outputs": []
    },
    {
      "cell_type": "code",
      "source": [
        "X_train, X_test, y_train, y_test = train_test_split(X_scaled, y, test_size=0.3, random_state=42)\n",
        "\n",
        "linear_reg = LinearRegression()\n",
        "linear_reg.fit(X_train, y_train)\n",
        "y_pred_linear = linear_reg.predict(X_test)\n",
        "\n",
        "ridge_reg = Ridge(alpha=0.5748)\n",
        "ridge_reg.fit(X_train, y_train)\n",
        "y_pred_ridge = ridge_reg.predict(X_test)\n",
        "\n",
        "lasso_reg = Lasso(alpha=0.5748)\n",
        "lasso_reg.fit(X_train, y_train)\n",
        "y_pred_lasso = lasso_reg.predict(X_test)"
      ],
      "metadata": {
        "id": "LYHs47M6nUfG"
      },
      "execution_count": 19,
      "outputs": []
    },
    {
      "cell_type": "code",
      "source": [
        "def evaluate_model(y_true, y_pred, model_name):\n",
        "    r2 = r2_score(y_true, y_pred)\n",
        "    mse = mean_squared_error(y_true, y_pred)\n",
        "    print(f\"{model_name} R² score: {r2}\")\n",
        "    print(f\"{model_name} Mean Squared Error (MSE): {mse}\\n\")\n",
        "    return r2, mse\n",
        "\n",
        "evaluate_model(y_test, y_pred_linear, \"Linear Regression\")\n",
        "\n",
        "evaluate_model(y_test, y_pred_ridge, \"Ridge Regression\")\n",
        "\n",
        "evaluate_model(y_test, y_pred_lasso, \"LASSO Regression\")"
      ],
      "metadata": {
        "colab": {
          "base_uri": "https://localhost:8080/"
        },
        "id": "7WMtZyxniQri",
        "outputId": "e3535752-a8cf-4f05-8881-6bdd59d25913"
      },
      "execution_count": 20,
      "outputs": [
        {
          "output_type": "stream",
          "name": "stdout",
          "text": [
            "Linear Regression R² score: 0.48395666644591084\n",
            "Linear Regression Mean Squared Error (MSE): 109801.0001832886\n",
            "\n",
            "Ridge Regression R² score: 0.48465284254618246\n",
            "Ridge Regression Mean Squared Error (MSE): 109652.87147559448\n",
            "\n",
            "LASSO Regression R² score: 0.48541354170746664\n",
            "LASSO Regression Mean Squared Error (MSE): 109491.01388861175\n",
            "\n"
          ]
        },
        {
          "output_type": "execute_result",
          "data": {
            "text/plain": [
              "(0.48541354170746664, 109491.01388861175)"
            ]
          },
          "metadata": {},
          "execution_count": 20
        }
      ]
    },
    {
      "cell_type": "markdown",
      "source": [
        "Question 3."
      ],
      "metadata": {
        "id": "l1kUvGmLkb2G"
      }
    },
    {
      "cell_type": "code",
      "source": [
        "import numpy as np\n",
        "import pandas as pd\n",
        "from sklearn.model_selection import train_test_split\n",
        "from sklearn.preprocessing import StandardScaler\n",
        "from sklearn.linear_model import RidgeCV, LassoCV\n",
        "from sklearn.metrics import r2_score, mean_squared_error"
      ],
      "metadata": {
        "id": "gAoyUXvsoFKb"
      },
      "execution_count": 21,
      "outputs": []
    },
    {
      "cell_type": "code",
      "source": [
        "url = \"https://archive.ics.uci.edu/ml/machine-learning-databases/housing/housing.data\"\n",
        "columns = ['CRIM', 'ZN', 'INDUS', 'CHAS', 'NOX', 'RM', 'AGE', 'DIS', 'RAD', 'TAX', 'PTRATIO', 'B', 'LSTAT', 'MEDV']\n",
        "boston_df = pd.read_csv(url, delim_whitespace=True, header=None, names=columns)"
      ],
      "metadata": {
        "colab": {
          "base_uri": "https://localhost:8080/"
        },
        "id": "xS7zBKtCoJNi",
        "outputId": "31528450-298e-4f5a-a7d6-7ac6f01c11b7"
      },
      "execution_count": 22,
      "outputs": [
        {
          "output_type": "stream",
          "name": "stderr",
          "text": [
            "<ipython-input-22-e854daf9445b>:3: FutureWarning: The 'delim_whitespace' keyword in pd.read_csv is deprecated and will be removed in a future version. Use ``sep='\\s+'`` instead\n",
            "  boston_df = pd.read_csv(url, delim_whitespace=True, header=None, names=columns)\n"
          ]
        }
      ]
    },
    {
      "cell_type": "code",
      "source": [
        "X = boston_df.drop('MEDV', axis=1)  # Features\n",
        "y = boston_df['MEDV']  # Target variable (median value of homes)\n",
        "\n",
        "scaler = StandardScaler()\n",
        "X_scaled = scaler.fit_transform(X)"
      ],
      "metadata": {
        "id": "-AjC2vj9oQFN"
      },
      "execution_count": 23,
      "outputs": []
    },
    {
      "cell_type": "code",
      "source": [
        "X_train, X_test, y_train, y_test = train_test_split(X_scaled, y, test_size=0.3, random_state=42)\n",
        "\n",
        "alphas = np.logspace(-6, 6, 13)\n",
        "ridge_cv = RidgeCV(alphas=alphas, store_cv_values=True)\n",
        "ridge_cv.fit(X_train, y_train)\n",
        "\n",
        "# Predicting using the best alpha found by RidgeCV\n",
        "y_pred_ridge_cv = ridge_cv.predict(X_test)\n",
        "\n",
        "# LassoCV automatically performs cross-validation and selects the best alpha\n",
        "lasso_cv = LassoCV(alphas=alphas, cv=5, max_iter=10000)\n",
        "lasso_cv.fit(X_train, y_train)\n",
        "\n",
        "# Predicting using the best alpha found by LassoCV\n",
        "y_pred_lasso_cv = lasso_cv.predict(X_test)"
      ],
      "metadata": {
        "colab": {
          "base_uri": "https://localhost:8080/"
        },
        "id": "xFHNCnnMobwF",
        "outputId": "adef6511-59a7-442b-b707-4f461367972b"
      },
      "execution_count": 24,
      "outputs": [
        {
          "output_type": "stream",
          "name": "stderr",
          "text": [
            "/usr/local/lib/python3.10/dist-packages/sklearn/linear_model/_ridge.py:2341: FutureWarning: 'store_cv_values' is deprecated in version 1.5 and will be removed in 1.7. Use 'store_cv_results' instead.\n",
            "  warnings.warn(\n"
          ]
        }
      ]
    },
    {
      "cell_type": "code",
      "source": [
        "def evaluate_model(y_true, y_pred, model_name):\n",
        "    r2 = r2_score(y_true, y_pred)\n",
        "    mse = mean_squared_error(y_true, y_pred)\n",
        "    print(f\"{model_name} R² score: {r2}\")\n",
        "    print(f\"{model_name} Mean Squared Error (MSE): {mse}\\n\")\n",
        "    return r2, mse\n",
        "\n",
        "evaluate_model(y_test, y_pred_ridge_cv, \"RidgeCV\")\n",
        "\n",
        "evaluate_model(y_test, y_pred_lasso_cv, \"LassoCV\")\n",
        "\n",
        "print(f\"Best alpha for RidgeCV: {ridge_cv.alpha_}\")\n",
        "print(f\"Best alpha for LassoCV: {lasso_cv.alpha_}\")"
      ],
      "metadata": {
        "colab": {
          "base_uri": "https://localhost:8080/"
        },
        "id": "LVjrtKqln8ZB",
        "outputId": "2ae3a1d8-d214-4176-8c35-fcb473a3e8f5"
      },
      "execution_count": 25,
      "outputs": [
        {
          "output_type": "stream",
          "name": "stdout",
          "text": [
            "RidgeCV R² score: 0.707335330279436\n",
            "RidgeCV Mean Squared Error (MSE): 21.80735050422663\n",
            "\n",
            "LassoCV R² score: 0.7112259525060364\n",
            "LassoCV Mean Squared Error (MSE): 21.517448198437485\n",
            "\n",
            "Best alpha for RidgeCV: 10.0\n",
            "Best alpha for LassoCV: 1e-06\n"
          ]
        }
      ]
    }
  ]
}